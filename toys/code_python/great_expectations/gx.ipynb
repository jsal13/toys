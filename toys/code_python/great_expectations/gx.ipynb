{
 "cells": [
  {
   "cell_type": "code",
   "execution_count": 2,
   "metadata": {},
   "outputs": [],
   "source": [
    "from dataclasses import dataclass\n",
    "import string\n",
    "\n",
    "import great_expectations as gx\n",
    "import numpy as np\n",
    "import pandas as pd"
   ]
  },
  {
   "cell_type": "code",
   "execution_count": 3,
   "metadata": {},
   "outputs": [],
   "source": [
    "# The data context will allow us to access a bunch of utility and\n",
    "# convenience methods; it's the entry point for GX in the Py API.\n",
    "context = gx.get_context()"
   ]
  },
  {
   "cell_type": "code",
   "execution_count": 7,
   "metadata": {},
   "outputs": [
    {
     "data": {
      "text/html": [
       "<div>\n",
       "<style scoped>\n",
       "    .dataframe tbody tr th:only-of-type {\n",
       "        vertical-align: middle;\n",
       "    }\n",
       "\n",
       "    .dataframe tbody tr th {\n",
       "        vertical-align: top;\n",
       "    }\n",
       "\n",
       "    .dataframe thead th {\n",
       "        text-align: right;\n",
       "    }\n",
       "</style>\n",
       "<table border=\"1\" class=\"dataframe\">\n",
       "  <thead>\n",
       "    <tr style=\"text-align: right;\">\n",
       "      <th></th>\n",
       "      <th>field_int</th>\n",
       "      <th>field_nonneg_int</th>\n",
       "      <th>field_required_int</th>\n",
       "      <th>field_float</th>\n",
       "      <th>field_str</th>\n",
       "    </tr>\n",
       "  </thead>\n",
       "  <tbody>\n",
       "    <tr>\n",
       "      <th>0</th>\n",
       "      <td>-6.0</td>\n",
       "      <td>74.0</td>\n",
       "      <td>89.0</td>\n",
       "      <td>0.149443</td>\n",
       "      <td>h</td>\n",
       "    </tr>\n",
       "    <tr>\n",
       "      <th>1</th>\n",
       "      <td>-85.0</td>\n",
       "      <td>39.0</td>\n",
       "      <td>-57.0</td>\n",
       "      <td>0.991908</td>\n",
       "      <td>b</td>\n",
       "    </tr>\n",
       "    <tr>\n",
       "      <th>2</th>\n",
       "      <td>NaN</td>\n",
       "      <td>76.0</td>\n",
       "      <td>-37.0</td>\n",
       "      <td>NaN</td>\n",
       "      <td>j</td>\n",
       "    </tr>\n",
       "    <tr>\n",
       "      <th>3</th>\n",
       "      <td>-76.0</td>\n",
       "      <td>30.0</td>\n",
       "      <td>-72.0</td>\n",
       "      <td>0.797462</td>\n",
       "      <td>m</td>\n",
       "    </tr>\n",
       "    <tr>\n",
       "      <th>4</th>\n",
       "      <td>-58.0</td>\n",
       "      <td>NaN</td>\n",
       "      <td>29.0</td>\n",
       "      <td>0.918519</td>\n",
       "      <td>n</td>\n",
       "    </tr>\n",
       "  </tbody>\n",
       "</table>\n",
       "</div>"
      ],
      "text/plain": [
       "   field_int  field_nonneg_int  field_required_int  field_float field_str\n",
       "0       -6.0              74.0                89.0     0.149443         h\n",
       "1      -85.0              39.0               -57.0     0.991908         b\n",
       "2        NaN              76.0               -37.0          NaN         j\n",
       "3      -76.0              30.0               -72.0     0.797462         m\n",
       "4      -58.0               NaN                29.0     0.918519         n"
      ]
     },
     "execution_count": 7,
     "metadata": {},
     "output_type": "execute_result"
    }
   ],
   "source": [
    "# Let's make some synthetic data for use in GX.\n",
    "\n",
    "\n",
    "@dataclass\n",
    "class Record:\n",
    "    \"\"\"Represent a Record.\"\"\"\n",
    "\n",
    "    field_int: int | None\n",
    "    field_nonneg_int: int | None\n",
    "    field_required_int: int | None\n",
    "    field_float: float | None\n",
    "    field_str: str | None\n",
    "\n",
    "\n",
    "def create_random_records(n: int, missing_data_percent: float = 0.1) -> list[\"Record\"]:\n",
    "    \"\"\"Create random records.\"\"\"\n",
    "\n",
    "    # We purposely put some malformed data in here.\n",
    "    field_ints = np.random.randint(-100, 100, size=n)\n",
    "    field_nonneg_int = np.random.randint(-10, 100, size=n)\n",
    "    field_required_int = np.random.randint(-100, 100, size=n)\n",
    "    field_float = np.random.rand(n)\n",
    "    field_str = np.random.choice(list(string.ascii_lowercase), size=n, replace=True)\n",
    "\n",
    "    fields = {\n",
    "        \"field_int\": field_ints,\n",
    "        \"field_nonneg_int\": field_nonneg_int,\n",
    "        \"field_required_int\": field_required_int,\n",
    "        \"field_float\": field_float,\n",
    "        \"field_str\": field_str,\n",
    "    }\n",
    "\n",
    "    df = pd.DataFrame(fields)\n",
    "\n",
    "    # Create random nulls.\n",
    "    df = df.mask(\n",
    "        np.random.choice(\n",
    "            [True, False],\n",
    "            size=df.shape,\n",
    "            p=[missing_data_percent, 1 - missing_data_percent],\n",
    "        )\n",
    "    )\n",
    "\n",
    "    return df\n",
    "\n",
    "df = create_random_records(100)\n",
    "df.head()"
   ]
  },
  {
   "cell_type": "code",
   "execution_count": 10,
   "metadata": {},
   "outputs": [],
   "source": [
    "# Create a validator for reading a dataframe.\n",
    "# A validator stores Expectations about data it's associated with, and performing introspections on the data.\n",
    "\n",
    "validator = context.sources.pandas_default.read_dataframe(df)"
   ]
  },
  {
   "cell_type": "code",
   "execution_count": 11,
   "metadata": {},
   "outputs": [
    {
     "data": {
      "application/vnd.jupyter.widget-view+json": {
       "model_id": "7cb35c9780824d928e153df6d0fab418",
       "version_major": 2,
       "version_minor": 0
      },
      "text/plain": [
       "Calculating Metrics:   0%|          | 0/6 [00:00<?, ?it/s]"
      ]
     },
     "metadata": {},
     "output_type": "display_data"
    },
    {
     "data": {
      "application/vnd.jupyter.widget-view+json": {
       "model_id": "07e0fc5bfacb48998f4011b71e7bcb5b",
       "version_major": 2,
       "version_minor": 0
      },
      "text/plain": [
       "Calculating Metrics:   0%|          | 0/8 [00:00<?, ?it/s]"
      ]
     },
     "metadata": {},
     "output_type": "display_data"
    },
    {
     "data": {
      "text/plain": [
       "{\n",
       "  \"exception_info\": {\n",
       "    \"raised_exception\": false,\n",
       "    \"exception_traceback\": null,\n",
       "    \"exception_message\": null\n",
       "  },\n",
       "  \"meta\": {},\n",
       "  \"result\": {\n",
       "    \"element_count\": 100,\n",
       "    \"unexpected_count\": 8,\n",
       "    \"unexpected_percent\": 8.421052631578947,\n",
       "    \"partial_unexpected_list\": [\n",
       "      -5.0,\n",
       "      -6.0,\n",
       "      -9.0,\n",
       "      -5.0,\n",
       "      -7.0,\n",
       "      -5.0,\n",
       "      -6.0,\n",
       "      -2.0\n",
       "    ],\n",
       "    \"missing_count\": 5,\n",
       "    \"missing_percent\": 5.0,\n",
       "    \"unexpected_percent_total\": 8.0,\n",
       "    \"unexpected_percent_nonmissing\": 8.421052631578947\n",
       "  },\n",
       "  \"success\": false\n",
       "}"
      ]
     },
     "execution_count": 11,
     "metadata": {},
     "output_type": "execute_result"
    }
   ],
   "source": [
    "# Domain knowledge Expectations:\n",
    "validator.expect_column_values_to_not_be_null(\"field_required_int\")\n",
    "validator.expect_column_values_to_be_between(\"field_nonneg_int\", min_value=0)"
   ]
  },
  {
   "cell_type": "code",
   "execution_count": 12,
   "metadata": {},
   "outputs": [
    {
     "data": {
      "application/vnd.jupyter.widget-view+json": {
       "model_id": "ab20744f2fdd48fda790f44c02822b3d",
       "version_major": 2,
       "version_minor": 0
      },
      "text/plain": [
       "Calculating Metrics:   0%|          | 0/15 [00:00<?, ?it/s]"
      ]
     },
     "metadata": {},
     "output_type": "display_data"
    }
   ],
   "source": [
    "# This told us some stuff that was bad.  Uh-oh.\n",
    "# Let's do a checkpoint, this allows us to repeat validation.\n",
    "\n",
    "checkpoint = gx.checkpoint.SimpleCheckpoint(name=\"quickstart_checkpoint\", data_context=context, validator=validator)\n",
    "\n",
    "# Run the checkpoint.\n",
    "checkpoint_result = checkpoint.run()"
   ]
  },
  {
   "cell_type": "code",
   "execution_count": 15,
   "metadata": {},
   "outputs": [
    {
     "data": {
      "text/plain": [
       "{'local_site': 'file:///tmp/tmppxeqjb2w/index.html'}"
      ]
     },
     "execution_count": 15,
     "metadata": {},
     "output_type": "execute_result"
    }
   ],
   "source": [
    "# Gx compiles this stuff into a nice little data doc.\n",
    "context.build_data_docs()"
   ]
  },
  {
   "cell_type": "code",
   "execution_count": null,
   "metadata": {},
   "outputs": [],
   "source": []
  }
 ],
 "metadata": {
  "kernelspec": {
   "display_name": ".venv",
   "language": "python",
   "name": "python3"
  },
  "language_info": {
   "codemirror_mode": {
    "name": "ipython",
    "version": 3
   },
   "file_extension": ".py",
   "mimetype": "text/x-python",
   "name": "python",
   "nbconvert_exporter": "python",
   "pygments_lexer": "ipython3",
   "version": "3.10.6"
  },
  "orig_nbformat": 4
 },
 "nbformat": 4,
 "nbformat_minor": 2
}
